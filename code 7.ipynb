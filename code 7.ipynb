{
 "cells": [
  {
   "cell_type": "code",
   "execution_count": 1,
   "id": "237c624b",
   "metadata": {},
   "outputs": [],
   "source": [
    "# Inputting data\n",
    "data_points = [\n",
    "\n",
    "    (2000, 72.5),\n",
    "\n",
    "    (2001, 73.1),\n",
    "\n",
    "    (2002, 73.8),\n",
    "\n",
    "    (2003, 74.2),\n",
    "\n",
    "    (2004, 74.7),\n",
    "\n",
    "    (2005, 75.3),\n",
    "\n",
    "    (2006, 75.9),\n",
    "\n",
    "    (2007, 76.5),\n",
    "\n",
    "    (2008, 76.9),\n",
    "\n",
    "    (2009, 77.4),\n",
    "\n",
    "    (2010, 78.0),\n",
    "\n",
    "    (2011, 78.5),\n",
    "\n",
    "    (2012, 79.0),\n",
    "\n",
    "    (2013, 79.5),\n",
    "\n",
    "    (2014, 80.0),\n",
    "\n",
    "    (2015, 80.5),\n",
    "\n",
    "    (2016, 81.0),\n",
    "\n",
    "    (2017, 81.5),\n",
    "\n",
    "    (2018, 82.0),\n",
    "\n",
    "    (2019, 82.5)\n",
    "\n",
    "]"
   ]
  },
  {
   "cell_type": "code",
   "execution_count": 2,
   "id": "03ab2a75",
   "metadata": {},
   "outputs": [],
   "source": [
    "def mean_calc(data_points):\n",
    "    total = 0\n",
    "    count = 0\n",
    "    \n",
    "    for year, expectancy in data_points:\n",
    "        total += expectancy\n",
    "        count += 1\n",
    "        \n",
    "    if count > 0:\n",
    "        average = total / count\n",
    "        return average\n",
    "    else:\n",
    "        return None"
   ]
  },
  {
   "cell_type": "code",
   "execution_count": 3,
   "id": "a7d6d9e2",
   "metadata": {},
   "outputs": [
    {
     "name": "stdout",
     "output_type": "stream",
     "text": [
      "Average Life Expectancy: 77.64\n"
     ]
    }
   ],
   "source": [
    "mean_life = mean_calc(data_points)\n",
    "\n",
    "print(f\"Average Life Expectancy: {mean_life}\")"
   ]
  },
  {
   "cell_type": "code",
   "execution_count": 4,
   "id": "37195565",
   "metadata": {},
   "outputs": [],
   "source": [
    "def regression_coefficients(data_points):\n",
    "    x_sum = 0\n",
    "    y_sum = 0 \n",
    "    n = len(data_points)\n",
    "    \n",
    "    for x, y in data_points:\n",
    "        x_sum += x\n",
    "        y_sum += y\n",
    "        \n",
    "    x_mean = x_sum / n\n",
    "    y_mean = y_sum / n\n",
    "    \n",
    "    numerator = 0\n",
    "    denominator = 0\n",
    "    \n",
    "    # Calculate the slope\n",
    "    for x, y in data_points:\n",
    "        numerator += (x - x_mean) * (y - y_mean)\n",
    "        denominator += (x - x_mean) ** 2\n",
    "        \n",
    "    slope = numerator / denominator\n",
    "    \n",
    "    # Calculate the intercept\n",
    "    intercept = y_mean - (slope * x_mean)\n",
    "    \n",
    "    return slope, intercept"
   ]
  },
  {
   "cell_type": "code",
   "execution_count": 5,
   "id": "312f3bc4",
   "metadata": {},
   "outputs": [
    {
     "name": "stdout",
     "output_type": "stream",
     "text": [
      "Slope: 0.5221052631578948\n",
      "Intercept: -971.5305263157896\n"
     ]
    }
   ],
   "source": [
    "slope, intercept = regression_coefficients(data_points)\n",
    "\n",
    "print(f\"Slope: {slope}\")\n",
    "print(f\"Intercept: {intercept}\")"
   ]
  },
  {
   "cell_type": "code",
   "execution_count": 6,
   "id": "d6eab5be",
   "metadata": {},
   "outputs": [],
   "source": [
    "# Making predictions\n",
    "def predictions(data_point, slope, intercept):\n",
    "    y_predicted = slope * data_point + intercept\n",
    "    \n",
    "    return y_predicted"
   ]
  },
  {
   "cell_type": "code",
   "execution_count": 7,
   "id": "e2e8c4ff",
   "metadata": {},
   "outputs": [
    {
     "name": "stdout",
     "output_type": "stream",
     "text": [
      "What year would you ike to predict? 2025\n",
      "For x = 2025, the predicted life expectancy is 85.73263157894746\n"
     ]
    }
   ],
   "source": [
    "# Using the prediction formula\n",
    "slope = 0.5221052631578948\n",
    "intercept = -971.5305263157896\n",
    "\n",
    "year_prediction = int(input(\"What year would you ike to predict? \"))\n",
    "\n",
    "predicted_value = predictions(year_prediction, slope, intercept)\n",
    "\n",
    "print(f\"For x = {year_prediction}, the predicted life expectancy is {predicted_value}\")"
   ]
  },
  {
   "cell_type": "code",
   "execution_count": null,
   "id": "4426ca3e",
   "metadata": {},
   "outputs": [],
   "source": []
  }
 ],
 "metadata": {
  "kernelspec": {
   "display_name": "Python 3 (ipykernel)",
   "language": "python",
   "name": "python3"
  },
  "language_info": {
   "codemirror_mode": {
    "name": "ipython",
    "version": 3
   },
   "file_extension": ".py",
   "mimetype": "text/x-python",
   "name": "python",
   "nbconvert_exporter": "python",
   "pygments_lexer": "ipython3",
   "version": "3.11.4"
  }
 },
 "nbformat": 4,
 "nbformat_minor": 5
}
